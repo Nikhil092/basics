{
    "cells": [
        {
            "metadata": {
                "collapsed": true
            },
            "cell_type": "markdown",
            "source": "# My Jupyter Notebook on IBM Watson Studio"
        },
        {
            "metadata": {},
            "cell_type": "markdown",
            "source": "**Nikhil Jain**"
        },
        {
            "metadata": {},
            "cell_type": "markdown",
            "source": "Naive learner"
        },
        {
            "metadata": {},
            "cell_type": "markdown",
            "source": "_I want to improve my skills in analytics, statiscics and dive into big data analytics, so that I can have necessary skills to go for Analytical studies in nutrition and health, and develop a career around that_"
        },
        {
            "metadata": {},
            "cell_type": "markdown",
            "source": "### The following code gives you a range of numbers from a fibonacci series. It takes two inputs, a - Starting point of the series, b - Ending point of the series. "
        },
        {
            "metadata": {},
            "cell_type": "code",
            "source": "def fib(a,b):\n    F=[1,1]\n    k=0\n    for i in range(b):\n        k = F[i] + F[i+1]\n        F.extend([k])\n    return(F[a-1:b])\n\nprint(fib(1,9)) ### first 9 elements\nprint(fib(3,10)) ### 2nd element to 10th element\n#feel free to adjust the input if coursera permits",
            "execution_count": 88,
            "outputs": [
                {
                    "output_type": "stream",
                    "text": "[1, 1, 2, 3, 5, 8, 13, 21, 34]\n[2, 3, 5, 8, 13, 21, 34, 55]\n",
                    "name": "stdout"
                }
            ]
        },
        {
            "metadata": {},
            "cell_type": "markdown",
            "source": "___\nFind more on the elements of this code in the following links:\n* [Fibonacci Series](https://en.wikipedia.org/wiki/Fibonacci_number)\n* [Functions](https://www.w3schools.com/python/python_functions.asp) in python"
        }
    ],
    "metadata": {
        "kernelspec": {
            "name": "python3",
            "display_name": "Python 3.6",
            "language": "python"
        },
        "language_info": {
            "name": "python",
            "version": "3.6.9",
            "mimetype": "text/x-python",
            "codemirror_mode": {
                "name": "ipython",
                "version": 3
            },
            "pygments_lexer": "ipython3",
            "nbconvert_exporter": "python",
            "file_extension": ".py"
        }
    },
    "nbformat": 4,
    "nbformat_minor": 1
}